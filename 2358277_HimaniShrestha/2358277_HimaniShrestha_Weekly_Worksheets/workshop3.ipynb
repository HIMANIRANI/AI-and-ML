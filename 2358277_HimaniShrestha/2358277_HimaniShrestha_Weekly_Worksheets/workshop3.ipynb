{
  "nbformat": 4,
  "nbformat_minor": 0,
  "metadata": {
    "colab": {
      "provenance": []
    },
    "kernelspec": {
      "name": "python3",
      "display_name": "Python 3"
    },
    "language_info": {
      "name": "python"
    }
  },
  "cells": [
    {
      "cell_type": "markdown",
      "source": [
        "# Implementation of MCP Neuron for AND and OR Function."
      ],
      "metadata": {
        "id": "IY-_Zy_b71lD"
      }
    },
    {
      "cell_type": "code",
      "source": [
        "def MCP_Neurons_AND(X1, X2, T):\n",
        "  \"\"\"\n",
        "  This functions implements basic AND operations with MCP Neuron for two inputs.\n",
        "  Arguments:\n",
        "  Inputs:\n",
        "  X1 (1 nd array): An array of binary values.\n",
        "  X2 (1 nd array): An array of binary values.\n",
        "  Output:\n",
        "  state_neuron(1D-list): An state of neuron 1 0r 0 for the particular inputs.\n",
        "  \"\"\"\n",
        "  assert len(X1) == len(X2)\n",
        "  ### YOUR CODE HERE ###\n",
        "  # Perform an element wise addition of two input arrays stored in a new array(list):\n",
        "  # Create a new array to put all the prediction let's name that a state_neuron.\n",
        "  # Append 1 in sate_neuron if sum (element) of above list is above Threshold else append 0.\n",
        "\n",
        "  # Perform element-wise addition and store in a new list\n",
        "  element_sum = [x + y for x, y in zip(X1, X2)]\n",
        "\n",
        "  # Create a list to store neuron states (predictions)\n",
        "  state_neuron = []\n",
        "\n",
        "  # Apply threshold and append to state_neuron\n",
        "  for element in element_sum:\n",
        "    if element >= T:\n",
        "      state_neuron.append(1)\n",
        "    else:\n",
        "      state_neuron.append(0)\n",
        "\n",
        "  return state_neuron"
      ],
      "metadata": {
        "id": "Fu-YDOe_8GJi"
      },
      "execution_count": 1,
      "outputs": []
    },
    {
      "cell_type": "code",
      "source": [
        "# Example usage for MCP_Neurons_AND function\n",
        "X1 = [0, 0, 1, 1]\n",
        "X2 = [0, 1, 0, 1]\n",
        "T = 2  # Threshold value\n",
        "\n",
        "# Call the MCP_Neurons_AND function\n",
        "result = MCP_Neurons_AND(X1, X2, T)\n",
        "\n",
        "# Print the result\n",
        "print(f\"Output of AND gate for inputs {X1} and {X2} with threshold {T}: {result}\")\n"
      ],
      "metadata": {
        "colab": {
          "base_uri": "https://localhost:8080/"
        },
        "id": "e2-lKfat8ocN",
        "outputId": "e56bd0e5-8a02-4f6c-8c7f-8fcb7a43be7b"
      },
      "execution_count": 2,
      "outputs": [
        {
          "output_type": "stream",
          "name": "stdout",
          "text": [
            "Output of AND gate for inputs [0, 0, 1, 1] and [0, 1, 0, 1] with threshold 2: [0, 0, 0, 1]\n"
          ]
        }
      ]
    },
    {
      "cell_type": "code",
      "source": [
        "def MCP_Neurons_OR(X1, X2, T):\n",
        "    \"\"\"\n",
        "    This function implements basic OR operations with MCP Neuron for two inputs.\n",
        "    Arguments:\n",
        "    Inputs:\n",
        "    X1 (1D array): An array of binary values.\n",
        "    X2 (1D array): An array of binary values.\n",
        "    Output:\n",
        "    state_neuron (1D list): The state of the neuron (1 or 0) for the particular inputs.\n",
        "    \"\"\"\n",
        "    assert len(X1) == len(X2)\n",
        "    ### YOUR CODE HERE ###\n",
        "    # Perform an element wise addition of two input arrays stored in a new array(list):\n",
        "    # Create a new array to put all the prediction let's name that a state_neuron.\n",
        "    # Append 1 in sate_neuron if sum (element) of above list is above Threshold else append 0.\n",
        "\n",
        "    # Perform element-wise addition and store in a new list\n",
        "    element_sum = [x + y for x, y in zip(X1, X2)]\n",
        "\n",
        "    # Create a list to store neuron states (predictions)\n",
        "    state_neuron = []\n",
        "\n",
        "    # Apply threshold and append to state_neuron\n",
        "    for element in element_sum:\n",
        "      if element >= T:\n",
        "        state_neuron.append(1)\n",
        "      else:\n",
        "        state_neuron.append(0)\n",
        "\n",
        "    return state_neuron\n"
      ],
      "metadata": {
        "id": "7xaMXlLT9FHC"
      },
      "execution_count": 3,
      "outputs": []
    },
    {
      "cell_type": "code",
      "source": [
        "# Example usage for MCP_Neurons_OR function\n",
        "X1 = [0, 0, 1, 1]\n",
        "X2 = [0, 1, 0, 1]\n",
        "T = 1  # Threshold value for OR gate\n",
        "\n",
        "# Call the MCP_Neurons_OR function\n",
        "result_or = MCP_Neurons_OR(X1, X2, T)\n",
        "\n",
        "# Print the result\n",
        "print(f\"Output of OR gate for inputs {X1} and {X2} with threshold {T}: {result_or}\")\n"
      ],
      "metadata": {
        "colab": {
          "base_uri": "https://localhost:8080/"
        },
        "id": "6H-YOy268_Jo",
        "outputId": "0635d43f-d1b9-4e21-9b06-d49a0a7b4d11"
      },
      "execution_count": 4,
      "outputs": [
        {
          "output_type": "stream",
          "name": "stdout",
          "text": [
            "Output of OR gate for inputs [0, 0, 1, 1] and [0, 1, 0, 1] with threshold 1: [0, 1, 1, 1]\n"
          ]
        }
      ]
    },
    {
      "cell_type": "markdown",
      "source": [
        "\n",
        "\n",
        "# Implementation for 0 Vs. 1 Classification."
      ],
      "metadata": {
        "id": "Apa9bfLIFJHe"
      }
    },
    {
      "cell_type": "markdown",
      "source": [
        "## Step 1: Load the Dataset"
      ],
      "metadata": {
        "id": "iom83mGLFP_1"
      }
    },
    {
      "cell_type": "code",
      "source": [
        "import pandas as pd\n",
        "import numpy as np\n",
        "import matplotlib.pyplot as plt\n",
        "\n",
        "\n",
        "# Load the dataset\n",
        "df_0_1 = pd.read_csv(\"/content/drive/MyDrive/AI-2025/mnist_0_and_1.csv\")  # Add the correct file path if necessary\n",
        "\n",
        "# Extract features and labels\n",
        "X = df_0_1.drop(columns=[\"label\"]).values  # 784 pixels\n",
        "y = df_0_1[\"label\"].values  # Labels (0 or 1)\n",
        "\n",
        "# Check the shape of the features and labels\n",
        "print(\"Feature matrix shape:\", X.shape)\n",
        "print(\"Label vector shape:\", y.shape)\n"
      ],
      "metadata": {
        "colab": {
          "base_uri": "https://localhost:8080/"
        },
        "id": "7rkW58ct9IYq",
        "outputId": "96df292c-5d11-48fc-ab91-317ebedb9901"
      },
      "execution_count": 6,
      "outputs": [
        {
          "output_type": "stream",
          "name": "stdout",
          "text": [
            "Feature matrix shape: (12665, 784)\n",
            "Label vector shape: (12665,)\n"
          ]
        }
      ]
    },
    {
      "cell_type": "code",
      "source": [
        "from google.colab import drive\n",
        "drive.mount('/content/drive')"
      ],
      "metadata": {
        "colab": {
          "base_uri": "https://localhost:8080/"
        },
        "id": "Z6wobLf1P20-",
        "outputId": "ba1bc100-488b-4354-8dd0-a51b6332af50"
      },
      "execution_count": 5,
      "outputs": [
        {
          "output_type": "stream",
          "name": "stdout",
          "text": [
            "Mounted at /content/drive\n"
          ]
        }
      ]
    },
    {
      "cell_type": "markdown",
      "source": [
        "### Viewing the Dataset."
      ],
      "metadata": {
        "id": "jlq0EY2jHheD"
      }
    },
    {
      "cell_type": "code",
      "source": [
        "# Separate images for label 0 and label 1\n",
        "images_0 = X[y == 0]  # Get all images with label 0\n",
        "images_1 = X[y == 1]  # Get all images with label 1\n",
        "\n",
        "fig, axes = plt.subplots(2, 5, figsize=(10, 5))\n",
        "\n",
        "# Check if the arrays have the required amount of data\n",
        "if len(images_0) < 5 or len(images_1) < 5:\n",
        "    print(\"Error: Not enough images in images_0 or images_1 to plot 5 images.\")\n",
        "else:\n",
        "    for i in range(5):\n",
        "        # Plot digit 0\n",
        "        axes[0, i].imshow(images_0[i].reshape(28, 28), cmap=\"gray\")\n",
        "        axes[0, i].set_title(\"Label: 0\")\n",
        "        axes[0, i].axis(\"off\")\n",
        "        # Plot digit 1\n",
        "        axes[1, i].imshow(images_1[i].reshape(28, 28), cmap=\"gray\")\n",
        "        axes[1, i].set_title(\"Label: 1\")\n",
        "        axes[1, i].axis(\"off\")\n",
        "    plt.suptitle(\"First 5 Images of 0 and 1 from MNIST Subset\")\n",
        "    plt.show()"
      ],
      "metadata": {
        "colab": {
          "base_uri": "https://localhost:8080/",
          "height": 451
        },
        "id": "XKY2qjhCHAZ7",
        "outputId": "d31781c1-7a88-45b8-9bde-8c20f76df031"
      },
      "execution_count": 7,
      "outputs": [
        {
          "output_type": "display_data",
          "data": {
            "text/plain": [
              "<Figure size 1000x500 with 10 Axes>"
            ],
            "image/png": "[encoded data removed]"
          },
          "metadata": {}
        }
      ]
    },
    {
      "cell_type": "markdown",
      "source": [
        "## Step - 2 - Initializing the Weights:"
      ],
      "metadata": {
        "id": "qyM34tbHIqGi"
      }
    },
    {
      "cell_type": "code",
      "source": [
        "# Initialize weights and bias\n",
        "weights = np.zeros(X.shape[1])  # 784 weights (one for each pixel)\n",
        "bias = 0\n",
        "learning_rate = 0.1\n",
        "epochs = 100"
      ],
      "metadata": {
        "id": "SMsXaZ38HfBI"
      },
      "execution_count": 29,
      "outputs": []
    },
    {
      "cell_type": "markdown",
      "source": [
        "## Step - 3 - Make a Decision function:"
      ],
      "metadata": {
        "id": "EvraDxaeRVeo"
      }
    },
    {
      "cell_type": "code",
      "source": [
        "import numpy as np\n",
        "\n",
        "def decision_function(X, weights, bias):\n",
        "    \"\"\"\n",
        "    Compute the predicted labels for the input data.\n",
        "\n",
        "    Parameters:\n",
        "    - X: Features (input data) as a numpy array of shape (n_samples, n_features)\n",
        "    - weights: Updated weights after training\n",
        "    - bias: Updated bias after training\n",
        "\n",
        "    Returns:\n",
        "    - y_pred_all: The predicted labels for the input data\n",
        "    \"\"\"\n",
        "    predictions = np.dot(X, weights) + bias\n",
        "    y_pred_all = np.where(predictions >= 0, 1, 0) # Activation function (step function)\n",
        "    return y_pred_all"
      ],
      "metadata": {
        "id": "6uVj75txLWQi"
      },
      "execution_count": 24,
      "outputs": []
    },
    {
      "cell_type": "markdown",
      "source": [
        "## Step - 3 - Implement the Perceptron Learning Algorithm"
      ],
      "metadata": {
        "id": "AVZNGyRdI4I4"
      }
    },
    {
      "cell_type": "code",
      "source": [
        "def train_perceptron(X, y, weights, bias, learning_rate=0.1, epochs=100):\n",
        "    \"\"\"\n",
        "    Train the perceptron using the Perceptron Learning Algorithm.\n",
        "\n",
        "    Parameters:\n",
        "    - X: Features (input data) as a numpy array of shape (n_samples, n_features)\n",
        "    - y: Labels (true output) as a numpy array of shape (n_samples,)\n",
        "    - weights: Initial weights as a numpy array of shape (n_features,)\n",
        "    - bias: Initial bias value (scalar)\n",
        "    - learning_rate: Learning rate for weight updates (default is 0.1)\n",
        "    - epochs: Number of iterations to train the model (default is 100)\n",
        "\n",
        "    Returns:\n",
        "    - weights: Updated weights after training\n",
        "    - bias: Updated bias after training\n",
        "    - accuracy: Total correct prediction.\n",
        "    \"\"\"\n",
        "    # Step 3: Perceptron Learning Algorithm\n",
        "    for epoch in range(epochs):\n",
        "        for i in range(X.shape[0]):\n",
        "            # Calculate prediction\n",
        "            prediction = np.dot(X[i], weights) + bias\n",
        "            y_pred = 1 if prediction >= 0 else 0\n",
        "\n",
        "            # Update weights and bias if prediction is incorrect\n",
        "            if y_pred != y[i]:\n",
        "                weights = weights + learning_rate * (y[i] - y_pred) * X[i]\n",
        "                bias = bias + learning_rate * (y[i] - y_pred)\n",
        "\n",
        "        # Calculate accuracy for the current epoch\n",
        "        predictions = np.dot(X, weights) + bias\n",
        "        y_pred_all = np.where(predictions >= 0, 1, 0)\n",
        "        accuracy = np.mean(y_pred_all == y)\n",
        "\n",
        "        print(f\"Epoch {epoch}: Accuracy = {accuracy}\")  # Print epoch and accuracy\n",
        "\n",
        "    # Calculate final accuracy\n",
        "    predictions = np.dot(X, weights) + bias\n",
        "    y_pred_all = np.where(predictions >= 0, 1, 0)\n",
        "    accuracy = np.mean(y_pred_all == y)\n",
        "\n",
        "    return weights, bias, accuracy"
      ],
      "metadata": {
        "id": "Dg1ocrycJWpA"
      },
      "execution_count": 25,
      "outputs": []
    },
    {
      "cell_type": "markdown",
      "source": [
        "## Training the Perceptron"
      ],
      "metadata": {
        "id": "Va6AGI6iMAG9"
      }
    },
    {
      "cell_type": "code",
      "source": [
        "# After training the model with the perceptron_learning_algorithm\n",
        "weights, bias, accuracy = train_perceptron(X, y, weights, bias,epochs=epochs)\n",
        "\n",
        "# Evaluate the model using the new function\n",
        "print(\"The Final Accuracy is: \", accuracy)"
      ],
      "metadata": {
        "colab": {
          "base_uri": "https://localhost:8080/"
        },
        "id": "cn8XBYuZLswI",
        "outputId": "7d50ccc9-5bbd-47a4-bac3-d329b1326597"
      },
      "execution_count": 30,
      "outputs": [
        {
          "output_type": "stream",
          "name": "stdout",
          "text": [
            "Epoch 0: Accuracy = 0.9988945913936044\n",
            "Epoch 1: Accuracy = 0.9988945913936044\n",
            "Epoch 2: Accuracy = 0.9994472956968022\n",
            "Epoch 3: Accuracy = 0.9997631267272009\n",
            "Epoch 4: Accuracy = 0.9993683379392025\n",
            "Epoch 5: Accuracy = 0.9999210422424003\n",
            "Epoch 6: Accuracy = 0.9996052112120016\n",
            "Epoch 7: Accuracy = 0.9998420844848006\n",
            "Epoch 8: Accuracy = 0.9996052112120016\n",
            "Epoch 9: Accuracy = 0.9992104224240032\n",
            "Epoch 10: Accuracy = 0.9998420844848006\n",
            "Epoch 11: Accuracy = 1.0\n",
            "Epoch 12: Accuracy = 1.0\n",
            "Epoch 13: Accuracy = 1.0\n",
            "Epoch 14: Accuracy = 1.0\n",
            "Epoch 15: Accuracy = 1.0\n",
            "Epoch 16: Accuracy = 1.0\n",
            "Epoch 17: Accuracy = 1.0\n",
            "Epoch 18: Accuracy = 1.0\n",
            "Epoch 19: Accuracy = 1.0\n",
            "Epoch 20: Accuracy = 1.0\n",
            "Epoch 21: Accuracy = 1.0\n",
            "Epoch 22: Accuracy = 1.0\n",
            "Epoch 23: Accuracy = 1.0\n",
            "Epoch 24: Accuracy = 1.0\n",
            "Epoch 25: Accuracy = 1.0\n",
            "Epoch 26: Accuracy = 1.0\n",
            "Epoch 27: Accuracy = 1.0\n",
            "Epoch 28: Accuracy = 1.0\n",
            "Epoch 29: Accuracy = 1.0\n",
            "Epoch 30: Accuracy = 1.0\n",
            "Epoch 31: Accuracy = 1.0\n",
            "Epoch 32: Accuracy = 1.0\n",
            "Epoch 33: Accuracy = 1.0\n",
            "Epoch 34: Accuracy = 1.0\n",
            "Epoch 35: Accuracy = 1.0\n",
            "Epoch 36: Accuracy = 1.0\n",
            "Epoch 37: Accuracy = 1.0\n",
            "Epoch 38: Accuracy = 1.0\n",
            "Epoch 39: Accuracy = 1.0\n",
            "Epoch 40: Accuracy = 1.0\n",
            "Epoch 41: Accuracy = 1.0\n",
            "Epoch 42: Accuracy = 1.0\n",
            "Epoch 43: Accuracy = 1.0\n",
            "Epoch 44: Accuracy = 1.0\n",
            "Epoch 45: Accuracy = 1.0\n",
            "Epoch 46: Accuracy = 1.0\n",
            "Epoch 47: Accuracy = 1.0\n",
            "Epoch 48: Accuracy = 1.0\n",
            "Epoch 49: Accuracy = 1.0\n",
            "Epoch 50: Accuracy = 1.0\n",
            "Epoch 51: Accuracy = 1.0\n",
            "Epoch 52: Accuracy = 1.0\n",
            "Epoch 53: Accuracy = 1.0\n",
            "Epoch 54: Accuracy = 1.0\n",
            "Epoch 55: Accuracy = 1.0\n",
            "Epoch 56: Accuracy = 1.0\n",
            "Epoch 57: Accuracy = 1.0\n",
            "Epoch 58: Accuracy = 1.0\n",
            "Epoch 59: Accuracy = 1.0\n",
            "Epoch 60: Accuracy = 1.0\n",
            "Epoch 61: Accuracy = 1.0\n",
            "Epoch 62: Accuracy = 1.0\n",
            "Epoch 63: Accuracy = 1.0\n",
            "Epoch 64: Accuracy = 1.0\n",
            "Epoch 65: Accuracy = 1.0\n",
            "Epoch 66: Accuracy = 1.0\n",
            "Epoch 67: Accuracy = 1.0\n",
            "Epoch 68: Accuracy = 1.0\n",
            "Epoch 69: Accuracy = 1.0\n",
            "Epoch 70: Accuracy = 1.0\n",
            "Epoch 71: Accuracy = 1.0\n",
            "Epoch 72: Accuracy = 1.0\n",
            "Epoch 73: Accuracy = 1.0\n",
            "Epoch 74: Accuracy = 1.0\n",
            "Epoch 75: Accuracy = 1.0\n",
            "Epoch 76: Accuracy = 1.0\n",
            "Epoch 77: Accuracy = 1.0\n",
            "Epoch 78: Accuracy = 1.0\n",
            "Epoch 79: Accuracy = 1.0\n",
            "Epoch 80: Accuracy = 1.0\n",
            "Epoch 81: Accuracy = 1.0\n",
            "Epoch 82: Accuracy = 1.0\n",
            "Epoch 83: Accuracy = 1.0\n",
            "Epoch 84: Accuracy = 1.0\n",
            "Epoch 85: Accuracy = 1.0\n",
            "Epoch 86: Accuracy = 1.0\n",
            "Epoch 87: Accuracy = 1.0\n",
            "Epoch 88: Accuracy = 1.0\n",
            "Epoch 89: Accuracy = 1.0\n",
            "Epoch 90: Accuracy = 1.0\n",
            "Epoch 91: Accuracy = 1.0\n",
            "Epoch 92: Accuracy = 1.0\n",
            "Epoch 93: Accuracy = 1.0\n",
            "Epoch 94: Accuracy = 1.0\n",
            "Epoch 95: Accuracy = 1.0\n",
            "Epoch 96: Accuracy = 1.0\n",
            "Epoch 97: Accuracy = 1.0\n",
            "Epoch 98: Accuracy = 1.0\n",
            "Epoch 99: Accuracy = 1.0\n",
            "The Final Accuracy is:  1.0\n"
          ]
        }
      ]
    },
    {
      "cell_type": "markdown",
      "source": [
        "## Step 5: Visualize Misclassified Images"
      ],
      "metadata": {
        "id": "-SLq1jbSMKPm"
      }
    },
    {
      "cell_type": "code",
      "source": [
        "# Get predictions for all data points\n",
        "predictions = np.dot(X, weights) + bias\n",
        "y_pred = np.where(predictions >= 0, 1, 0)\n",
        "\n",
        "# Calculate final accuracy\n",
        "final_accuracy = np.mean(y_pred == y)\n",
        "print(f\"Final Accuracy: {final_accuracy:.4f}\")\n",
        "\n",
        "# Step 5: Visualize Misclassified Images\n",
        "misclassified_idx = np.where(y_pred != y)[0]\n",
        "if len(misclassified_idx) > 0:\n",
        "    fig, axes = plt.subplots(2, 5, figsize=(10, 5))\n",
        "    for ax, idx in zip(axes.flat, misclassified_idx[:10]):  # Show 10 misclassified images\n",
        "        ax.imshow(X[idx].reshape(28, 28), cmap=\"gray\")\n",
        "        ax.set_title(f\"Pred: {y_pred[idx]}, True: {y[idx]}\")\n",
        "        ax.axis(\"off\")\n",
        "    plt.suptitle(\"Misclassified Images\")\n",
        "    plt.show()\n",
        "else:\n",
        "    print(\"All images were correctly classified!\")"
      ],
      "metadata": {
        "colab": {
          "base_uri": "https://localhost:8080/"
        },
        "id": "KAMz1RPGMN_A",
        "outputId": "e43f94c8-6b2d-4287-f00a-d8db111a5a37"
      },
      "execution_count": 31,
      "outputs": [
        {
          "output_type": "stream",
          "name": "stdout",
          "text": [
            "Final Accuracy: 1.0000\n",
            "All images were correctly classified!\n"
          ]
        }
      ]
    },
    {
      "cell_type": "markdown",
      "source": [
        "# Implementation for 3 Vs. 5 Classification."
      ],
      "metadata": {
        "id": "BvOoDInyaUOy"
      }
    },
    {
      "cell_type": "code",
      "source": [],
      "metadata": {
        "id": "CeEDo-9gNknE"
      },
      "execution_count": null,
      "outputs": []
    },
    {
      "cell_type": "code",
      "source": [
        "import pandas as pd\n",
        "import numpy as np\n",
        "import matplotlib.pyplot as plt\n",
        "\n",
        "\n",
        "# Load the dataset\n",
        "df_3_5 = pd.read_csv(\"/content/drive/MyDrive/AI-2025/mnist_3_and_5.csv\")  # Add the correct file path if necessary\n",
        "\n",
        "# Extract features and labels\n",
        "X = df_3_5.drop(columns=[\"label\"]).values  # 784 pixels\n",
        "y = df_3_5[\"label\"].values  # Labels (3 or 5)\n",
        "\n",
        "  # Check the shape of the features and labels\n",
        "print(\"Feature matrix shape:\", X.shape)\n",
        "print(\"Label vector shape:\", y.shape)\n"
      ],
      "metadata": {
        "colab": {
          "base_uri": "https://localhost:8080/"
        },
        "outputId": "bfc104b9-7bbd-4d2a-eef9-cd20ecb1658d",
        "id": "7MQtKAfwal-7"
      },
      "execution_count": 68,
      "outputs": [
        {
          "output_type": "stream",
          "name": "stdout",
          "text": [
            "Feature matrix shape: (2741, 784)\n",
            "Label vector shape: (2741,)\n"
          ]
        }
      ]
    },
    {
      "cell_type": "markdown",
      "source": [
        "### Viewing the Dataset."
      ],
      "metadata": {
        "id": "KLzJi4Otb2qC"
      }
    },
    {
      "cell_type": "code",
      "source": [
        "# Separate images for label 3 and label 5\n",
        "images_3 = X[y == 3]  # Get all images with label 3\n",
        "images_5 = X[y == 5]  # Get all images with label 5\n",
        "\n",
        "fig, axes = plt.subplots(2, 5, figsize=(10, 5))\n",
        "\n",
        "# Check if the arrays have the required amount of data\n",
        "if len(images_3) < 5 or len(images_5) < 5:\n",
        "    print(\"Error: Not enough images in images_3 or images_5 to plot 5 images.\")\n",
        "else:\n",
        "    for i in range(5):\n",
        "        # Plot digit 0\n",
        "        axes[0, i].imshow(images_3[i].reshape(28, 28), cmap=\"gray\")\n",
        "        axes[0, i].set_title(\"Label: 3\")\n",
        "        axes[0, i].axis(\"off\")\n",
        "        # Plot digit 1\n",
        "        axes[1, i].imshow(images_5[i].reshape(28, 28), cmap=\"gray\")\n",
        "        axes[1, i].set_title(\"Label: 5\")\n",
        "        axes[1, i].axis(\"off\")\n",
        "    plt.suptitle(\"First 5 Images of 3 and 5 from MNIST Subset\")\n",
        "    plt.show()"
      ],
      "metadata": {
        "colab": {
          "base_uri": "https://localhost:8080/",
          "height": 451
        },
        "outputId": "c24c8cc5-7b14-44c4-ca49-c486448ae522",
        "id": "HsNevFQsb2qE"
      },
      "execution_count": 51,
      "outputs": [
        {
          "output_type": "display_data",
          "data": {
            "text/plain": [
              "<Figure size 1000x500 with 10 Axes>"
            ],
            "image/png": "[encoded data removed]"
          },
          "metadata": {}
        }
      ]
    },
    {
      "cell_type": "markdown",
      "source": [
        "## Step - 2 - Initializing the Weights:"
      ],
      "metadata": {
        "id": "moxaY4kba80y"
      }
    },
    {
      "cell_type": "code",
      "source": [
        "# Initialize weights and bias\n",
        "weights = np.zeros(X.shape[1])  # 784 weights (one for each pixel)\n",
        "bias = 0\n",
        "learning_rate = 0.1\n",
        "epochs = 200"
      ],
      "metadata": {
        "id": "89bYv4Mqa80z"
      },
      "execution_count": 75,
      "outputs": []
    },
    {
      "cell_type": "markdown",
      "source": [
        "## Step - 3 - Make a Decision function:"
      ],
      "metadata": {
        "id": "IGrVuhc6bAK3"
      }
    },
    {
      "cell_type": "code",
      "source": [
        "import numpy as np\n",
        "\n",
        "def decision_function(X, weights, bias):\n",
        "    \"\"\"\n",
        "    Compute the predicted labels for the input data.\n",
        "\n",
        "    Parameters:\n",
        "    - X: Features (input data) as a numpy array of shape (n_samples, n_features)\n",
        "    - weights: Updated weights after training\n",
        "    - bias: Updated bias after training\n",
        "\n",
        "    Returns:\n",
        "    - y_pred_all: The predicted labels for the input data\n",
        "    \"\"\"\n",
        "    predictions = np.dot(X, weights) + bias\n",
        "    y_pred_all = np.where(predictions >= 0, 5, 3)  # Assign 5 if >= 0, else 3\n",
        "    return y_pred_all"
      ],
      "metadata": {
        "id": "Oxs2GyB7bAK4"
      },
      "execution_count": 71,
      "outputs": []
    },
    {
      "cell_type": "markdown",
      "source": [
        "## Step - 3 - Implement the Perceptron Learning Algorithm"
      ],
      "metadata": {
        "id": "6DkoCXumdOJH"
      }
    },
    {
      "cell_type": "code",
      "source": [
        "def train_perceptron(X, y, weights, bias, learning_rate=0.1, epochs=100):\n",
        "    \"\"\"\n",
        "    Train the perceptron using the Perceptron Learning Algorithm.\n",
        "\n",
        "    Parameters:\n",
        "    - X: Features (input data) as a numpy array of shape (n_samples, n_features)\n",
        "    - y: Labels (true output) as a numpy array of shape (n_samples,)\n",
        "    - weights: Initial weights as a numpy array of shape (n_features,)\n",
        "    - bias: Initial bias value (scalar)\n",
        "    - learning_rate: Learning rate for weight updates (default is 0.1)\n",
        "    - epochs: Number of iterations to train the model (default is 100)\n",
        "\n",
        "    Returns:\n",
        "    - weights: Updated weights after training\n",
        "    - bias: Updated bias after training\n",
        "    - accuracy: Total correct prediction.\n",
        "    \"\"\"\n",
        "    for epoch in range(epochs):\n",
        "        for i in range(X.shape[0]):\n",
        "            # Calculate prediction\n",
        "            prediction = np.dot(X[i], weights) + bias\n",
        "            y_pred = 5 if prediction >= 0 else 3  # Assign 5 or 3\n",
        "\n",
        "            # Update weights and bias if prediction is incorrect\n",
        "            if y_pred != y[i]:\n",
        "                weights = weights + learning_rate * (y[i] - y_pred) * X[i]\n",
        "                bias = bias + learning_rate * (y[i] - y_pred)\n",
        "\n",
        "        # Calculate accuracy for the current epoch\n",
        "        predictions = np.dot(X, weights) + bias\n",
        "        y_pred_all = np.where(predictions >= 0, 5, 3)  # Assign 5 or 3\n",
        "        accuracy = np.mean(y_pred_all == y)\n",
        "\n",
        "        print(f\"Epoch {epoch}: Accuracy = {accuracy}\")\n",
        "\n",
        "    # Calculate final accuracy\n",
        "    predictions = np.dot(X, weights) + bias\n",
        "    y_pred_all = np.where(predictions >= 0, 5, 3)  # Assign 5 or 3\n",
        "    accuracy = np.mean(y_pred_all == y)\n",
        "\n",
        "    return weights, bias, accuracy"
      ],
      "metadata": {
        "id": "1NA9YnFTdOJM"
      },
      "execution_count": 72,
      "outputs": []
    },
    {
      "cell_type": "markdown",
      "source": [
        "## Training the Perceptron"
      ],
      "metadata": {
        "id": "euwZN4t0bY-H"
      }
    },
    {
      "cell_type": "code",
      "source": [
        "# After training the model with the perceptron_learning_algorithm\n",
        "weights, bias, accuracy = train_perceptron(X, y, weights, bias,epochs=epochs)\n",
        "\n",
        "# Evaluate the model using the new function\n",
        "print(\"The Final Accuracy is: \", accuracy)"
      ],
      "metadata": {
        "colab": {
          "base_uri": "https://localhost:8080/"
        },
        "outputId": "e96da77d-5155-42bc-d324-82eb73adb6dd",
        "id": "NSStv6ldbY-I"
      },
      "execution_count": 76,
      "outputs": [
        {
          "output_type": "stream",
          "name": "stdout",
          "text": [
            "Epoch 0: Accuracy = 0.9325063845311929\n",
            "Epoch 1: Accuracy = 0.9456402772710689\n",
            "Epoch 2: Accuracy = 0.9277635899306822\n",
            "Epoch 3: Accuracy = 0.9500182415176943\n",
            "Epoch 4: Accuracy = 0.9474644290404962\n",
            "Epoch 5: Accuracy = 0.9697190806275082\n",
            "Epoch 6: Accuracy = 0.9605983217803721\n",
            "Epoch 7: Accuracy = 0.9569500182415177\n",
            "Epoch 8: Accuracy = 0.9529368843487778\n",
            "Epoch 9: Accuracy = 0.961327982488143\n",
            "Epoch 10: Accuracy = 0.925939438161255\n",
            "Epoch 11: Accuracy = 0.9602334914264867\n",
            "Epoch 12: Accuracy = 0.9719080627508209\n",
            "Epoch 13: Accuracy = 0.9748267055819044\n",
            "Epoch 14: Accuracy = 0.9733673841663626\n",
            "Epoch 15: Accuracy = 0.9438161255016417\n",
            "Epoch 16: Accuracy = 0.9460051076249544\n",
            "Epoch 17: Accuracy = 0.9569500182415177\n",
            "Epoch 18: Accuracy = 0.964611455673112\n",
            "Epoch 19: Accuracy = 0.9540313754104341\n",
            "Epoch 20: Accuracy = 0.9368843487778183\n",
            "Epoch 21: Accuracy = 0.9730025538124772\n",
            "Epoch 22: Accuracy = 0.9733673841663626\n",
            "Epoch 23: Accuracy = 0.9788398394746443\n",
            "Epoch 24: Accuracy = 0.9642466253192266\n",
            "Epoch 25: Accuracy = 0.9733673841663626\n",
            "Epoch 26: Accuracy = 0.948194089748267\n",
            "Epoch 27: Accuracy = 0.9726377234585918\n",
            "Epoch 28: Accuracy = 0.9438161255016417\n",
            "Epoch 29: Accuracy = 0.9730025538124772\n",
            "Epoch 30: Accuracy = 0.9569500182415177\n",
            "Epoch 31: Accuracy = 0.9584093396570594\n",
            "Epoch 32: Accuracy = 0.9704487413352791\n",
            "Epoch 33: Accuracy = 0.9751915359357899\n",
            "Epoch 34: Accuracy = 0.9806639912440716\n",
            "Epoch 35: Accuracy = 0.9686245895658518\n",
            "Epoch 36: Accuracy = 0.9762860269974462\n",
            "Epoch 37: Accuracy = 0.9394381612550164\n",
            "Epoch 38: Accuracy = 0.9387085005472455\n",
            "Epoch 39: Accuracy = 0.9730025538124772\n",
            "Epoch 40: Accuracy = 0.9686245895658518\n",
            "Epoch 41: Accuracy = 0.9766508573513316\n",
            "Epoch 42: Accuracy = 0.9781101787668735\n",
            "Epoch 43: Accuracy = 0.9719080627508209\n",
            "Epoch 44: Accuracy = 0.9675300985041956\n",
            "Epoch 45: Accuracy = 0.9456402772710689\n",
            "Epoch 46: Accuracy = 0.9781101787668735\n",
            "Epoch 47: Accuracy = 0.9671652681503101\n",
            "Epoch 48: Accuracy = 0.9839474644290405\n",
            "Epoch 49: Accuracy = 0.9518423932871215\n",
            "Epoch 50: Accuracy = 0.9697190806275082\n",
            "Epoch 51: Accuracy = 0.9722728931047063\n",
            "Epoch 52: Accuracy = 0.9759211966435607\n",
            "Epoch 53: Accuracy = 0.9730025538124772\n",
            "Epoch 54: Accuracy = 0.9474644290404962\n",
            "Epoch 55: Accuracy = 0.9821233126596133\n",
            "Epoch 56: Accuracy = 0.9726377234585918\n",
            "Epoch 57: Accuracy = 0.9832178037212697\n",
            "Epoch 58: Accuracy = 0.9627873039036848\n",
            "Epoch 59: Accuracy = 0.951477562933236\n",
            "Epoch 60: Accuracy = 0.9792046698285297\n",
            "Epoch 61: Accuracy = 0.9762860269974462\n",
            "Epoch 62: Accuracy = 0.939073330901131\n",
            "Epoch 63: Accuracy = 0.9507479022254651\n",
            "Epoch 64: Accuracy = 0.9832178037212697\n",
            "Epoch 65: Accuracy = 0.9821233126596133\n",
            "Epoch 66: Accuracy = 0.9671652681503101\n",
            "Epoch 67: Accuracy = 0.9832178037212697\n",
            "Epoch 68: Accuracy = 0.9854067858445823\n",
            "Epoch 69: Accuracy = 0.9770156877052171\n",
            "Epoch 70: Accuracy = 0.9850419554906968\n",
            "Epoch 71: Accuracy = 0.9846771251368114\n",
            "Epoch 72: Accuracy = 0.9865012769062386\n",
            "Epoch 73: Accuracy = 0.983582634075155\n",
            "Epoch 74: Accuracy = 0.9850419554906968\n",
            "Epoch 75: Accuracy = 0.9865012769062386\n",
            "Epoch 76: Accuracy = 0.9850419554906968\n",
            "Epoch 77: Accuracy = 0.9843122947829259\n",
            "Epoch 78: Accuracy = 0.9865012769062386\n",
            "Epoch 79: Accuracy = 0.9861364465523531\n",
            "Epoch 80: Accuracy = 0.9770156877052171\n",
            "Epoch 81: Accuracy = 0.9806639912440716\n",
            "Epoch 82: Accuracy = 0.9872309376140095\n",
            "Epoch 83: Accuracy = 0.9635169646114556\n",
            "Epoch 84: Accuracy = 0.9857716161984678\n",
            "Epoch 85: Accuracy = 0.9861364465523531\n",
            "Epoch 86: Accuracy = 0.9865012769062386\n",
            "Epoch 87: Accuracy = 0.9890550893834367\n",
            "Epoch 88: Accuracy = 0.9795695001824152\n",
            "Epoch 89: Accuracy = 0.9828529733673842\n",
            "Epoch 90: Accuracy = 0.983582634075155\n",
            "Epoch 91: Accuracy = 0.9850419554906968\n",
            "Epoch 92: Accuracy = 0.9865012769062386\n",
            "Epoch 93: Accuracy = 0.9875957679678949\n",
            "Epoch 94: Accuracy = 0.9792046698285297\n",
            "Epoch 95: Accuracy = 0.9810288215979569\n",
            "Epoch 96: Accuracy = 0.9821233126596133\n",
            "Epoch 97: Accuracy = 0.9839474644290405\n",
            "Epoch 98: Accuracy = 0.9854067858445823\n",
            "Epoch 99: Accuracy = 0.986866107260124\n",
            "Epoch 100: Accuracy = 0.9886902590295512\n",
            "Epoch 101: Accuracy = 0.9700839109813937\n",
            "Epoch 102: Accuracy = 0.9927033929222912\n",
            "Epoch 103: Accuracy = 0.990149580445093\n",
            "Epoch 104: Accuracy = 0.9912440715067493\n",
            "Epoch 105: Accuracy = 0.9879605983217804\n",
            "Epoch 106: Accuracy = 0.9923385625684057\n",
            "Epoch 107: Accuracy = 0.983582634075155\n",
            "Epoch 108: Accuracy = 0.990149580445093\n",
            "Epoch 109: Accuracy = 0.9883254286756659\n",
            "Epoch 110: Accuracy = 0.9912440715067493\n",
            "Epoch 111: Accuracy = 0.9854067858445823\n",
            "Epoch 112: Accuracy = 0.9832178037212697\n",
            "Epoch 113: Accuracy = 0.990879241152864\n",
            "Epoch 114: Accuracy = 0.9806639912440716\n",
            "Epoch 115: Accuracy = 0.9934330536300621\n",
            "Epoch 116: Accuracy = 0.9890550893834367\n",
            "Epoch 117: Accuracy = 0.9919737322145202\n",
            "Epoch 118: Accuracy = 0.9919737322145202\n",
            "Epoch 119: Accuracy = 0.9941627143378329\n",
            "Epoch 120: Accuracy = 0.9883254286756659\n",
            "Epoch 121: Accuracy = 0.9883254286756659\n",
            "Epoch 122: Accuracy = 0.9905144107989785\n",
            "Epoch 123: Accuracy = 0.9894199197373221\n",
            "Epoch 124: Accuracy = 0.9923385625684057\n",
            "Epoch 125: Accuracy = 0.9897847500912076\n",
            "Epoch 126: Accuracy = 0.9916089018606348\n",
            "Epoch 127: Accuracy = 0.9916089018606348\n",
            "Epoch 128: Accuracy = 0.990149580445093\n",
            "Epoch 129: Accuracy = 0.9941627143378329\n",
            "Epoch 130: Accuracy = 0.990149580445093\n",
            "Epoch 131: Accuracy = 0.990149580445093\n",
            "Epoch 132: Accuracy = 0.9875957679678949\n",
            "Epoch 133: Accuracy = 0.9894199197373221\n",
            "Epoch 134: Accuracy = 0.9959868661072602\n",
            "Epoch 135: Accuracy = 0.9883254286756659\n",
            "Epoch 136: Accuracy = 0.9937978839839474\n",
            "Epoch 137: Accuracy = 0.9905144107989785\n",
            "Epoch 138: Accuracy = 0.9930682232761766\n",
            "Epoch 139: Accuracy = 0.9850419554906968\n",
            "Epoch 140: Accuracy = 0.9930682232761766\n",
            "Epoch 141: Accuracy = 0.9916089018606348\n",
            "Epoch 142: Accuracy = 0.9857716161984678\n",
            "Epoch 143: Accuracy = 0.9948923750456038\n",
            "Epoch 144: Accuracy = 0.9799343305363006\n",
            "Epoch 145: Accuracy = 0.9934330536300621\n",
            "Epoch 146: Accuracy = 0.9941627143378329\n",
            "Epoch 147: Accuracy = 0.9937978839839474\n",
            "Epoch 148: Accuracy = 0.9970813571689164\n",
            "Epoch 149: Accuracy = 0.9897847500912076\n",
            "Epoch 150: Accuracy = 0.9905144107989785\n",
            "Epoch 151: Accuracy = 0.9952572053994893\n",
            "Epoch 152: Accuracy = 0.9978110178766874\n",
            "Epoch 153: Accuracy = 0.9916089018606348\n",
            "Epoch 154: Accuracy = 0.9843122947829259\n",
            "Epoch 155: Accuracy = 0.9930682232761766\n",
            "Epoch 156: Accuracy = 0.990879241152864\n",
            "Epoch 157: Accuracy = 0.9978110178766874\n",
            "Epoch 158: Accuracy = 0.9981758482305728\n",
            "Epoch 159: Accuracy = 0.9879605983217804\n",
            "Epoch 160: Accuracy = 0.9963516964611455\n",
            "Epoch 161: Accuracy = 0.9952572053994893\n",
            "Epoch 162: Accuracy = 0.9956220357533747\n",
            "Epoch 163: Accuracy = 0.996716526815031\n",
            "Epoch 164: Accuracy = 0.9963516964611455\n",
            "Epoch 165: Accuracy = 0.9956220357533747\n",
            "Epoch 166: Accuracy = 0.9937978839839474\n",
            "Epoch 167: Accuracy = 0.990149580445093\n",
            "Epoch 168: Accuracy = 0.9952572053994893\n",
            "Epoch 169: Accuracy = 0.996716526815031\n",
            "Epoch 170: Accuracy = 0.9890550893834367\n",
            "Epoch 171: Accuracy = 0.996716526815031\n",
            "Epoch 172: Accuracy = 0.996716526815031\n",
            "Epoch 173: Accuracy = 0.9974461875228019\n",
            "Epoch 174: Accuracy = 0.9945275446917183\n",
            "Epoch 175: Accuracy = 0.9970813571689164\n",
            "Epoch 176: Accuracy = 0.9974461875228019\n",
            "Epoch 177: Accuracy = 0.9970813571689164\n",
            "Epoch 178: Accuracy = 0.9970813571689164\n",
            "Epoch 179: Accuracy = 0.9989055089383436\n",
            "Epoch 180: Accuracy = 0.9978110178766874\n",
            "Epoch 181: Accuracy = 0.9970813571689164\n",
            "Epoch 182: Accuracy = 0.9963516964611455\n",
            "Epoch 183: Accuracy = 0.990879241152864\n",
            "Epoch 184: Accuracy = 0.9682597592119664\n",
            "Epoch 185: Accuracy = 0.9974461875228019\n",
            "Epoch 186: Accuracy = 0.9956220357533747\n",
            "Epoch 187: Accuracy = 0.9919737322145202\n",
            "Epoch 188: Accuracy = 0.9963516964611455\n",
            "Epoch 189: Accuracy = 0.9970813571689164\n",
            "Epoch 190: Accuracy = 0.9956220357533747\n",
            "Epoch 191: Accuracy = 0.9989055089383436\n",
            "Epoch 192: Accuracy = 0.9970813571689164\n",
            "Epoch 193: Accuracy = 0.9970813571689164\n",
            "Epoch 194: Accuracy = 0.9810288215979569\n",
            "Epoch 195: Accuracy = 0.9974461875228019\n",
            "Epoch 196: Accuracy = 0.9959868661072602\n",
            "Epoch 197: Accuracy = 0.9919737322145202\n",
            "Epoch 198: Accuracy = 0.9985406785844583\n",
            "Epoch 199: Accuracy = 0.9970813571689164\n",
            "The Final Accuracy is:  0.9970813571689164\n"
          ]
        }
      ]
    },
    {
      "cell_type": "markdown",
      "source": [
        "## Step 5: Visualize Misclassified Images"
      ],
      "metadata": {
        "id": "Tqpr6lY8bRNN"
      }
    },
    {
      "cell_type": "code",
      "source": [
        "# Get predictions for all data points\n",
        "predictions = np.dot(X, weights) + bias\n",
        "y_pred = np.where(predictions >= 0, 5, 3)\n",
        "\n",
        "# Calculate final accuracy\n",
        "final_accuracy = np.mean(y_pred == y)\n",
        "print(f\"Final Accuracy: {final_accuracy:.4f}\")\n",
        "\n",
        "# Step 5: Visualize Misclassified Images\n",
        "misclassified_idx = np.where(y_pred != y)[0]\n",
        "if len(misclassified_idx) > 0:\n",
        "    fig, axes = plt.subplots(2, 5, figsize=(10, 5))\n",
        "    for ax, idx in zip(axes.flat, misclassified_idx[:10]):  # Show 10 misclassified images\n",
        "        ax.imshow(X[idx].reshape(28, 28), cmap=\"gray\")\n",
        "        ax.set_title(f\"Pred: {y_pred[idx]}, True: {y[idx]}\")\n",
        "        ax.axis(\"off\")\n",
        "    plt.suptitle(\"Misclassified Images\")\n",
        "    plt.show()\n",
        "else:\n",
        "    print(\"All images were correctly classified!\")"
      ],
      "metadata": {
        "colab": {
          "base_uri": "https://localhost:8080/",
          "height": 513
        },
        "outputId": "909af21f-f6d4-4974-ad03-bafe737e8721",
        "id": "MmWJuq4fbRNO"
      },
      "execution_count": 79,
      "outputs": [
        {
          "output_type": "stream",
          "name": "stdout",
          "text": [
            "Final Accuracy: 0.9971\n"
          ]
        },
        {
          "output_type": "display_data",
          "data": {
            "text/plain": [
              "<Figure size 1000x500 with 10 Axes>"
            ],
            "image/png": "[encoded data removed]"
          },
          "metadata": {}
        }
      ]
    }
  ]
}